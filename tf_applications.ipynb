{
 "cells": [
  {
   "cell_type": "markdown",
   "metadata": {},
   "source": [
    "# INTRODUCTION TO TENSORFLOW \n",
    "* Tensorflow is a machine learning package developed by Google. Google integrated Keras into Tensorflow and released Tensorflow 2.0. Keras is a framework that creates a simple, layer-centric interface to Tensorflow. We will be dealing with the Keras interface.\n",
    "* Loading the related packages."
   ]
  },
  {
   "cell_type": "code",
   "execution_count": null,
   "metadata": {},
   "outputs": [],
   "source": [
    "import numpy as np\n",
    "from matplotlib import pyplot as plt\n",
    "import tensorflow as tf\n",
    "from tensorflow.keras.models import Sequential\n",
    "from tensorflow.keras.layers import Dense"
   ]
  },
  {
   "cell_type": "markdown",
   "metadata": {},
   "source": [
    "* In this example, the coffee roasting time duration with the roasting temperature will be studied.\n",
    "* Loading and visualizing the coffee data."
   ]
  },
  {
   "cell_type": "code",
   "execution_count": null,
   "metadata": {},
   "outputs": [],
   "source": [
    "import numpy as np\n",
    "from matplotlib import pyplot as plt\n",
    "\n",
    "data=np.loadtxt('assets/data/coffe_data.txt')\n",
    "X=data[:,[0,1]]\n",
    "y=data[:,2]\n",
    "\n",
    "fig=plt.figure(figsize=(4,3))\n",
    "plt.scatter(X[y==0,0],X[y==0,1],marker='o',c='b')\n",
    "plt.scatter(X[y==1,0],X[y==1,1],marker='x',c='r')\n",
    "plt.xlabel('Temperature (C)')\n",
    "plt.ylabel('Time Duration (min.)')\n",
    "plt.legend(['0','1'])"
   ]
  },
  {
   "cell_type": "markdown",
   "metadata": {},
   "source": [
    "* Fitting the weights to the data will proceed more quickly if the data is **normalized** where features in the data are each normalized to have a similar range. \n",
    "* The procedure below uses a Keras normalization layer. It has the following steps:\n",
    "    * create an instance  of a **Normalization Layer** class with suitable constructor. Note that this is not an actual sequential layer in the model.\n",
    "    * Utilize the **adapt** method of the class, which will calculta the mean and variance of the data set and saves the values internally.\n",
    "    * normalize the data.\n",
    "* Remember that any new data should be normalized before applying any inference. "
   ]
  },
  {
   "cell_type": "code",
   "execution_count": null,
   "metadata": {},
   "outputs": [],
   "source": [
    "print(f\"Raw Temperature (max,min): ({np.max(X[:,0]):0.2f},{np.min(X[:,0]):0.2f})\")\n",
    "print(f\"Raw Time Duration (max,min): ({np.max(X[:,1]):0.1f},{np.min(X[:,1]):0.1f})\")\n",
    "norm_layer = tf.keras.layers.Normalization(axis=-1)\n",
    "norm_layer.adapt(X)  # learns mean, variance\n",
    "X_norm = norm_layer(X)\n",
    "print(f\"Normalized Temperature (max,min): ({np.max(X_norm[:,0]):0.2f},{np.min(X_norm[:,0]):0.2f})\")\n",
    "print(f\"Normalized Time Duration (max,min): ({np.max(X_norm[:,1]):0.1f},{np.min(X_norm[:,1]):0.1f})\")"
   ]
  },
  {
   "cell_type": "markdown",
   "metadata": {},
   "source": [
    "* Tile (multiply) of the original data by repeating it, which will increase the size of the training set artificially and reduce the number of training epochs."
   ]
  },
  {
   "cell_type": "code",
   "execution_count": null,
   "metadata": {},
   "outputs": [],
   "source": [
    "X_rpt = np.tile(X_norm,(1000,1))\n",
    "Y_rpt= np.tile(y,(1000,1))   \n",
    "print(X_rpt.shape, Y_rpt.shape)  "
   ]
  },
  {
   "cell_type": "markdown",
   "metadata": {},
   "source": [
    "* Tensor flow model for coffee roasting. There are two layers with sigmoid activations.\n",
    "* You may either  tell the model the expected shape of the input with the tf.keras.Input(shape=(2,)), or it can be omitted during the model-creation and the Tensorflow will figure out itself when the input data is specified in the model-fitting.\n",
    "* The model.summary() provides a description of the network."
   ]
  },
  {
   "cell_type": "code",
   "execution_count": null,
   "metadata": {},
   "outputs": [],
   "source": [
    "# The randomness seeding helps you get consistent result with each run of the model\n",
    "tf.random.set_seed(1234) \n",
    "model = Sequential(\n",
    "    [\n",
    "        tf.keras.Input(shape=(2,)),\n",
    "        Dense(3, activation='sigmoid', name = 'layer1'),\n",
    "        Dense(1, activation='sigmoid', name = 'layer2')\n",
    "     ]\n",
    ")\n",
    "model.summary()"
   ]
  },
  {
   "cell_type": "markdown",
   "metadata": {},
   "source": [
    "* The model.compile statement defines a loss function and specifies a compile optimization.\n",
    "* The model.fit statement runs gradient descent and fits the weights to the data."
   ]
  },
  {
   "cell_type": "code",
   "execution_count": null,
   "metadata": {},
   "outputs": [],
   "source": [
    "model.compile(\n",
    "    loss = tf.keras.losses.BinaryCrossentropy(),\n",
    "    optimizer = tf.keras.optimizers.Adam(learning_rate=0.01),\n",
    ")\n",
    "\n",
    "model.fit(\n",
    "    X_rpt,y_rpt,\n",
    "    epochs=10,\n",
    ")"
   ]
  }
 ],
 "metadata": {
  "kernelspec": {
   "display_name": "tensorflow-projects-ykkG9dNC",
   "language": "python",
   "name": "python3"
  },
  "language_info": {
   "codemirror_mode": {
    "name": "ipython",
    "version": 3
   },
   "file_extension": ".py",
   "mimetype": "text/x-python",
   "name": "python",
   "nbconvert_exporter": "python",
   "pygments_lexer": "ipython3",
   "version": "3.11.0"
  }
 },
 "nbformat": 4,
 "nbformat_minor": 2
}
